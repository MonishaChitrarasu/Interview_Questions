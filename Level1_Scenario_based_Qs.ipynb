{
 "cells": [
  {
   "cell_type": "markdown",
   "id": "5771ef34",
   "metadata": {},
   "source": [
    "## Scenario Based Questions\n",
    "### Rules:\n",
    "#### 1. Identify the three stages of Problem Identification\n",
    "#### 2. Name the project\n",
    "#### 3. Explain the step by step process to solve this problem"
   ]
  },
  {
   "cell_type": "markdown",
   "id": "ac3184ea",
   "metadata": {},
   "source": [
    "### Problem Statement 1:"
   ]
  },
  {
   "cell_type": "markdown",
   "id": "65485aba",
   "metadata": {},
   "source": [
    "### A manufacturing company wants to improve the accuracy of its quality control process by automatically identifying defects in products. Can you develop a model that can classify the products as either defective or not?"
   ]
  },
  {
   "cell_type": "markdown",
   "id": "992d5778",
   "metadata": {},
   "source": [
    "### Problem Statement 2:"
   ]
  },
  {
   "cell_type": "markdown",
   "id": "6647235e",
   "metadata": {},
   "source": [
    "### A customer service department wants to improve its response time to customer inquiries by automatically categorizing and prioritizing customer emails based on their content. Can you develop a model that can classify customer emails based on the topics they cover and prioritize them based on their urgency?"
   ]
  },
  {
   "cell_type": "markdown",
   "id": "e80150ad",
   "metadata": {},
   "source": [
    "### Problem Statement 3:"
   ]
  },
  {
   "cell_type": "markdown",
   "id": "70a07db2",
   "metadata": {},
   "source": [
    "###  A hospital wants to reduce patient readmissions by identifying patients who are at high risk of being readmitted within 30 days of discharge. Can you develop a model that can predict the likelihood of readmission based on patient data such as age, medical history, and medication usage, and use this prediction to prioritize post-discharge follow-up care for high-risk patients?"
   ]
  },
  {
   "cell_type": "markdown",
   "id": "171ef629",
   "metadata": {},
   "source": [
    "### Problem Statement 4:"
   ]
  },
  {
   "cell_type": "markdown",
   "id": "e9f53066",
   "metadata": {},
   "source": [
    "### A marketing team at a large retail company wants to improve customer engagement and increase sales by creating personalized recommendations for each customer. How can you analyze customer data such as browsing history and purchase history to generate personalized product recommendations, and how can you processing be used to generate personalized marketing messages that resonate with each customer?"
   ]
  },
  {
   "cell_type": "markdown",
   "id": "d71f514d",
   "metadata": {},
   "source": [
    "### Problem Statement 5:"
   ]
  },
  {
   "cell_type": "markdown",
   "id": "ec24572e",
   "metadata": {},
   "source": [
    "### A hospital management decides to develop a AI model to diagnose the cancer to prevent and take precautions for the patients. Can we develop a system that can accurately detect and diagnose cancer based on medical imaging data?"
   ]
  },
  {
   "cell_type": "code",
   "execution_count": null,
   "id": "13266006",
   "metadata": {},
   "outputs": [],
   "source": []
  }
 ],
 "metadata": {
  "kernelspec": {
   "display_name": "Python 3 (ipykernel)",
   "language": "python",
   "name": "python3"
  },
  "language_info": {
   "codemirror_mode": {
    "name": "ipython",
    "version": 3
   },
   "file_extension": ".py",
   "mimetype": "text/x-python",
   "name": "python",
   "nbconvert_exporter": "python",
   "pygments_lexer": "ipython3",
   "version": "3.10.9"
  }
 },
 "nbformat": 4,
 "nbformat_minor": 5
}
